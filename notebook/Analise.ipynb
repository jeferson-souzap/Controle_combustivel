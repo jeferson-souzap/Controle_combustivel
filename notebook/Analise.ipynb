{
 "cells": [
  {
   "cell_type": "code",
   "execution_count": 1,
   "id": "de8cfa37",
   "metadata": {},
   "outputs": [],
   "source": [
    "import pandas as pd\n",
    "import sqlite3\n",
    "from datetime import datetime\n",
    "\n",
    "LOCAL_DB = r'D:\\#Mega\\Jeferson - Dev\\02 - Linguagens\\Python\\Controle_combustivel\\dados\\consumo.db'\n",
    "\n"
   ]
  },
  {
   "cell_type": "code",
   "execution_count": 35,
   "id": "5b3780ec",
   "metadata": {},
   "outputs": [],
   "source": [
    "def Obter_tabela_combustivel():\n",
    "    conn = sqlite3.connect(LOCAL_DB)    \n",
    "    query = \"SELECT * FROM combustivel\"\n",
    "\n",
    "    combustivel = pd.read_sql(query, conn)\n",
    "    conn.close()\n",
    "\n",
    "    return combustivel.rename(columns={'nome_combustivel': 'Combustível'})\n",
    "\n",
    "\n",
    "def Obter_tabela_marcas():\n",
    "    conn = sqlite3.connect(LOCAL_DB)\n",
    "    #cursor = conn.cursor()\n",
    "    string_sql = \"SELECT * FROM marca_modelo\"\n",
    "    marcas = pd.read_sql(string_sql, conn)\n",
    "\n",
    "    novos_nomes = {\n",
    "        'marca': 'Marca',\n",
    "        'modelo': 'Modelo'\n",
    "    }\n",
    "\n",
    "    conn.close()\n",
    "    return marcas.rename(columns=novos_nomes)\n",
    "\n"
   ]
  },
  {
   "cell_type": "code",
   "execution_count": 36,
   "id": "0fd90a2a",
   "metadata": {},
   "outputs": [],
   "source": [
    "df_marcas = Obter_tabela_marcas()\n",
    "df_combustivel = Obter_tabela_combustivel()"
   ]
  },
  {
   "cell_type": "code",
   "execution_count": 37,
   "id": "2b4f8d13",
   "metadata": {},
   "outputs": [
    {
     "data": {
      "text/plain": [
       "Index(['id', 'Marca', 'Modelo'], dtype='object')"
      ]
     },
     "execution_count": 37,
     "metadata": {},
     "output_type": "execute_result"
    }
   ],
   "source": [
    "df_marcas.columns"
   ]
  },
  {
   "cell_type": "code",
   "execution_count": 38,
   "id": "e865e733",
   "metadata": {},
   "outputs": [],
   "source": [
    "map_marca_to_id = {\n",
    "        f\"{row['Marca']} - {row['Modelo']}\": row['id']\n",
    "        for index, row in df_marcas.iterrows()\n",
    "    }"
   ]
  }
 ],
 "metadata": {
  "kernelspec": {
   "display_name": "Python 3",
   "language": "python",
   "name": "python3"
  },
  "language_info": {
   "codemirror_mode": {
    "name": "ipython",
    "version": 3
   },
   "file_extension": ".py",
   "mimetype": "text/x-python",
   "name": "python",
   "nbconvert_exporter": "python",
   "pygments_lexer": "ipython3",
   "version": "3.11.9"
  }
 },
 "nbformat": 4,
 "nbformat_minor": 5
}
