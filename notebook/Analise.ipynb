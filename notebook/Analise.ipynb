{
 "cells": [
  {
   "cell_type": "code",
   "execution_count": 1,
   "id": "de8cfa37",
   "metadata": {},
   "outputs": [],
   "source": [
    "import pandas as pd\n",
    "import sqlite3\n",
    "from datetime import datetime\n",
    "\n",
    "LOCAL_DB = r'D:\\#Mega\\Jeferson - Dev\\02 - Linguagens\\Python\\Controle_combustivel\\dados\\consumo.db'\n",
    "\n"
   ]
  },
  {
   "cell_type": "code",
   "execution_count": 2,
   "id": "72d8b406",
   "metadata": {},
   "outputs": [],
   "source": [
    "#modificar para listar os carros\n",
    "def Obter_carros():\n",
    "    conn = sqlite3.connect(LOCAL_DB)\n",
    "    cursor = conn.cursor()\n",
    "    cursor.execute(\"SELECT * FROM carros\")\n",
    "    categorias = cursor.fetchall()\n",
    "    conn.close()\n",
    "    return [categoria[1:5] for categoria in categorias]\n",
    "\n"
   ]
  },
  {
   "cell_type": "code",
   "execution_count": 28,
   "id": "1a9e0f3b",
   "metadata": {},
   "outputs": [],
   "source": [
    "\n",
    "def Cadastrar_combustivel(nome, valor=0.0, posto='BR'):\n",
    "    conn = sqlite3.connect(LOCAL_DB)\n",
    "    cursor = conn.cursor()\n",
    "    cursor.execute(\n",
    "            \"INSERT INTO combustivel (nome, valor, posto_referencia) \"\n",
    "            \"VALUES (?, ?, ?)\",\n",
    "            (nome, valor, posto)\n",
    "        )\n",
    "        \n",
    "    conn.commit()\n",
    "    conn.close()\n",
    "\n",
    "\n",
    "def Obter_combustivel():\n",
    "    conn = sqlite3.connect(LOCAL_DB)\n",
    "    cursor = conn.cursor()\n",
    "    cursor.execute(\"SELECT * FROM combustivel\")\n",
    "    categorias = cursor.fetchall()\n",
    "    conn.close()\n",
    "    return [categoria[1:2] for categoria in categorias]\n",
    "\n"
   ]
  },
  {
   "cell_type": "code",
   "execution_count": 32,
   "id": "4239cc26",
   "metadata": {},
   "outputs": [
    {
     "data": {
      "application/vnd.microsoft.datawrangler.viewer.v0+json": {
       "columns": [
        {
         "name": "index",
         "rawType": "int64",
         "type": "integer"
        },
        {
         "name": "0",
         "rawType": "object",
         "type": "string"
        }
       ],
       "conversionMethod": "pd.DataFrame",
       "ref": "194dded3-4746-4cd1-9641-f328a7868e04",
       "rows": [
        [
         "0",
         "Etanol"
        ],
        [
         "1",
         "Gasolina"
        ]
       ],
       "shape": {
        "columns": 1,
        "rows": 2
       }
      },
      "text/html": [
       "<div>\n",
       "<style scoped>\n",
       "    .dataframe tbody tr th:only-of-type {\n",
       "        vertical-align: middle;\n",
       "    }\n",
       "\n",
       "    .dataframe tbody tr th {\n",
       "        vertical-align: top;\n",
       "    }\n",
       "\n",
       "    .dataframe thead th {\n",
       "        text-align: right;\n",
       "    }\n",
       "</style>\n",
       "<table border=\"1\" class=\"dataframe\">\n",
       "  <thead>\n",
       "    <tr style=\"text-align: right;\">\n",
       "      <th></th>\n",
       "      <th>0</th>\n",
       "    </tr>\n",
       "  </thead>\n",
       "  <tbody>\n",
       "    <tr>\n",
       "      <th>0</th>\n",
       "      <td>Etanol</td>\n",
       "    </tr>\n",
       "    <tr>\n",
       "      <th>1</th>\n",
       "      <td>Gasolina</td>\n",
       "    </tr>\n",
       "  </tbody>\n",
       "</table>\n",
       "</div>"
      ],
      "text/plain": [
       "          0\n",
       "0    Etanol\n",
       "1  Gasolina"
      ]
     },
     "execution_count": 32,
     "metadata": {},
     "output_type": "execute_result"
    }
   ],
   "source": [
    "comb = pd.DataFrame(Obter_combustivel())\n",
    "comb"
   ]
  },
  {
   "cell_type": "code",
   "execution_count": 5,
   "id": "75c0cc25",
   "metadata": {},
   "outputs": [],
   "source": [
    "Cadastrar_combustivel('Gasolina', '5.79', 'Limoeiro-PS')\n"
   ]
  },
  {
   "cell_type": "code",
   "execution_count": null,
   "id": "0e346a94",
   "metadata": {},
   "outputs": [],
   "source": []
  },
  {
   "cell_type": "code",
   "execution_count": 9,
   "id": "daa93b6c",
   "metadata": {},
   "outputs": [
    {
     "data": {
      "text/plain": [
       "[('FORD', 'KA', 2018, 'PZN0H47')]"
      ]
     },
     "execution_count": 9,
     "metadata": {},
     "output_type": "execute_result"
    }
   ],
   "source": [
    "Obter_carros()"
   ]
  },
  {
   "cell_type": "code",
   "execution_count": 18,
   "id": "7ef90a39",
   "metadata": {},
   "outputs": [],
   "source": [
    "def Obter_info_tabela_carros():\n",
    "    \"\"\"\n",
    "    Obtém todos os carros cadastrados e retorna um DataFrame com colunas renomeadas\n",
    "    \"\"\"\n",
    "    conn = sqlite3.connect(LOCAL_DB)\n",
    "    try:\n",
    "        # Obtém os dados e os nomes das colunas\n",
    "        cursor = conn.cursor()\n",
    "        cursor.execute(\"SELECT * FROM tanques\")\n",
    "        dados = cursor.fetchall()\n",
    "        \n",
    "        # Obtém os nomes das colunas\n",
    "        cursor.execute(\"PRAGMA table_info(tanques)\")\n",
    "        colunas = [info[1] for info in cursor.fetchall()]\n",
    "        \n",
    "        # Cria o DataFrame\n",
    "        df = pd.DataFrame(dados, columns=colunas)\n",
    "        \n",
    "        # Renomeia as colunas para exibição amigável\n",
    "        df = df.rename(columns={\n",
    "            'id': 'ID',\n",
    "            'capacidade_tanque': 'Capacidade',\n",
    "            'tipo_combustivel': 'Tipo Combustivel',            \n",
    "            'autonomia_media': 'Autonomia'\n",
    "            \n",
    "        })\n",
    "        \n",
    "        # Seleciona apenas as colunas relevantes para exibição\n",
    "        colunas_exibir = ['Capacidade', 'Tipo Combustivel', 'Autonomia']\n",
    "        return df[colunas_exibir]\n",
    "        \n",
    "    finally:\n",
    "        conn.close()\n"
   ]
  },
  {
   "cell_type": "code",
   "execution_count": 19,
   "id": "f1518eba",
   "metadata": {},
   "outputs": [
    {
     "data": {
      "application/vnd.microsoft.datawrangler.viewer.v0+json": {
       "columns": [
        {
         "name": "index",
         "rawType": "int64",
         "type": "integer"
        },
        {
         "name": "Capacidade",
         "rawType": "float64",
         "type": "float"
        },
        {
         "name": "Tipo Combustivel",
         "rawType": "object",
         "type": "string"
        },
        {
         "name": "Autonomia",
         "rawType": "float64",
         "type": "float"
        }
       ],
       "conversionMethod": "pd.DataFrame",
       "ref": "49a38b5b-1824-41f2-953f-d47968ac9d03",
       "rows": [
        [
         "0",
         "52.0",
         "Etanol",
         "10.0"
        ]
       ],
       "shape": {
        "columns": 3,
        "rows": 1
       }
      },
      "text/html": [
       "<div>\n",
       "<style scoped>\n",
       "    .dataframe tbody tr th:only-of-type {\n",
       "        vertical-align: middle;\n",
       "    }\n",
       "\n",
       "    .dataframe tbody tr th {\n",
       "        vertical-align: top;\n",
       "    }\n",
       "\n",
       "    .dataframe thead th {\n",
       "        text-align: right;\n",
       "    }\n",
       "</style>\n",
       "<table border=\"1\" class=\"dataframe\">\n",
       "  <thead>\n",
       "    <tr style=\"text-align: right;\">\n",
       "      <th></th>\n",
       "      <th>Capacidade</th>\n",
       "      <th>Tipo Combustivel</th>\n",
       "      <th>Autonomia</th>\n",
       "    </tr>\n",
       "  </thead>\n",
       "  <tbody>\n",
       "    <tr>\n",
       "      <th>0</th>\n",
       "      <td>52.0</td>\n",
       "      <td>Etanol</td>\n",
       "      <td>10.0</td>\n",
       "    </tr>\n",
       "  </tbody>\n",
       "</table>\n",
       "</div>"
      ],
      "text/plain": [
       "   Capacidade Tipo Combustivel  Autonomia\n",
       "0        52.0           Etanol       10.0"
      ]
     },
     "execution_count": 19,
     "metadata": {},
     "output_type": "execute_result"
    }
   ],
   "source": [
    "Obter_info_tabela_carros()"
   ]
  }
 ],
 "metadata": {
  "kernelspec": {
   "display_name": "Python 3",
   "language": "python",
   "name": "python3"
  },
  "language_info": {
   "codemirror_mode": {
    "name": "ipython",
    "version": 3
   },
   "file_extension": ".py",
   "mimetype": "text/x-python",
   "name": "python",
   "nbconvert_exporter": "python",
   "pygments_lexer": "ipython3",
   "version": "3.11.5"
  }
 },
 "nbformat": 4,
 "nbformat_minor": 5
}
