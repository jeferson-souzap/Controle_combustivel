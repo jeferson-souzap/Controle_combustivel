{
 "cells": [
  {
   "cell_type": "code",
   "execution_count": 45,
   "id": "de8cfa37",
   "metadata": {},
   "outputs": [],
   "source": [
    "import pandas as pd\n",
    "import sqlite3\n",
    "from datetime import datetime\n",
    "\n",
    "LOCAL_DB = r'D:\\#Mega\\Jeferson - Dev\\02 - Linguagens\\Python\\Controle_combustivel\\dados\\consumo.db'\n",
    "\n"
   ]
  }
 ],
 "metadata": {
  "kernelspec": {
   "display_name": "Python 3",
   "language": "python",
   "name": "python3"
  },
  "language_info": {
   "codemirror_mode": {
    "name": "ipython",
    "version": 3
   },
   "file_extension": ".py",
   "mimetype": "text/x-python",
   "name": "python",
   "nbconvert_exporter": "python",
   "pygments_lexer": "ipython3",
   "version": "3.11.5"
  }
 },
 "nbformat": 4,
 "nbformat_minor": 5
}
